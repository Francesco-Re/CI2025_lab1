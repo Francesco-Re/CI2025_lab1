{
 "cells": [
  {
   "cell_type": "markdown",
   "id": "11fa4375",
   "metadata": {},
   "source": [
    "Copyright **`(c)`** 2025 Giovanni Squillero `<giovanni.squillero@polito.it>`  \n",
    "[`https://github.com/squillero/computational-intelligence`](https://github.com/squillero/computational-intelligence)  \n",
    "Free under certain conditions — see the [`license`](https://github.com/squillero/computational-intelligence/blob/master/LICENSE.md) for details.  "
   ]
  },
  {
   "cell_type": "code",
   "execution_count": 3,
   "id": "c0882a9f",
   "metadata": {},
   "outputs": [],
   "source": [
    "import numpy as np"
   ]
  },
  {
   "cell_type": "code",
   "execution_count": 85,
   "id": "3adb670e",
   "metadata": {},
   "outputs": [],
   "source": [
    "NUM_KNAPSACKS = 2\n",
    "NUM_ITEMS = 10\n",
    "NUM_DIMENSIONS = 2"
   ]
  },
  {
   "cell_type": "code",
   "execution_count": 5,
   "id": "3ea35aac",
   "metadata": {},
   "outputs": [],
   "source": [
    "NUM_KNAPSACKS = 2\n",
    "NUM_ITEMS = 3\n",
    "NUM_DIMENSIONS = 2"
   ]
  },
  {
   "cell_type": "markdown",
   "id": "d457ecfb",
   "metadata": {},
   "source": [
    "three random generated data structures\n",
    "values -> vector of the values\n",
    "weight -> vector(1 dimension)/matrix(multiple dimensions) conteining the weights of each element\n",
    "constraint -> vector (or value if the problem is 1 dimension) containing the limit of each dimension"
   ]
  },
  {
   "cell_type": "code",
   "execution_count": 86,
   "id": "2db51e99",
   "metadata": {},
   "outputs": [],
   "source": [
    "VALUES = np.random.randint(0, 100, size=NUM_ITEMS)\n",
    "WEIGHTS = np.random.randint(0, 100, size=(NUM_ITEMS, NUM_DIMENSIONS))\n",
    "CONSTRAINTS = np.random.randint(0, 100 * NUM_ITEMS // NUM_KNAPSACKS, size=(NUM_KNAPSACKS, NUM_DIMENSIONS))"
   ]
  },
  {
   "cell_type": "code",
   "execution_count": 7,
   "id": "ce454091",
   "metadata": {},
   "outputs": [
    {
     "data": {
      "text/plain": [
       "array([[68, 44],\n",
       "       [54,  5],\n",
       "       [48, 79]], dtype=int32)"
      ]
     },
     "execution_count": 7,
     "metadata": {},
     "output_type": "execute_result"
    }
   ],
   "source": [
    "WEIGHTS"
   ]
  },
  {
   "cell_type": "code",
   "execution_count": 8,
   "id": "2abb812d",
   "metadata": {},
   "outputs": [
    {
     "data": {
      "text/plain": [
       "array([[ 21, 105],\n",
       "       [  6,  85]], dtype=int32)"
      ]
     },
     "execution_count": 8,
     "metadata": {},
     "output_type": "execute_result"
    }
   ],
   "source": [
    "CONSTRAINTS"
   ]
  },
  {
   "cell_type": "markdown",
   "id": "afa45a98",
   "metadata": {},
   "source": [
    "Create initial solution: for each knapsack it's chosen a random solution in order to have a legal knapsack.\n",
    "Iterate it for each knapsack. A mask must be added to avoid having the same object in all, which will be updated each time by making the OR operation of all the i-th element of each solution array"
   ]
  },
  {
   "cell_type": "code",
   "execution_count": 26,
   "id": "dade6b3c",
   "metadata": {},
   "outputs": [],
   "source": [
    "# A random solution\n",
    "solution = np.array(\n",
    "    [np.random.random(NUM_ITEMS) <0.5 for _ in range(NUM_KNAPSACKS)], dtype=np.bool\n",
    ")"
   ]
  },
  {
   "cell_type": "code",
   "execution_count": 27,
   "id": "f21d5749",
   "metadata": {},
   "outputs": [
    {
     "data": {
      "text/plain": [
       "array([[ True,  True,  True],\n",
       "       [ True, False,  True]])"
      ]
     },
     "execution_count": 27,
     "metadata": {},
     "output_type": "execute_result"
    }
   ],
   "source": [
    "solution"
   ]
  },
  {
   "cell_type": "code",
   "execution_count": 100,
   "id": "38b2192c",
   "metadata": {},
   "outputs": [],
   "source": [
    "def checkKnapsack(solution, knapsack):\n",
    "    #checks if the solution is valid\n",
    "    return np.all(WEIGHTS[solution[knapsack]].sum(axis=0) <= CONSTRAINTS[knapsack])\n",
    "\n",
    "def fillKnapsack(knapsacks, numKnapsack, mask):\n",
    "    #process: get all the values that can be chosen, get a random set of items to put in the knapsack\n",
    "    #         and then check if the solution is valid\n",
    "\n",
    "    #variables needed to reset the problem in case it's stuck\n",
    "    trials = 0\n",
    "    max_trials = 50\n",
    "    while True:\n",
    "\n",
    "        #trials handler\n",
    "\n",
    "        trials += 1\n",
    "        if trials >= max_trials:\n",
    "            return np.zeros_like(mask, dtype=bool)\n",
    "        \n",
    "        #choosing knapsack items\n",
    "\n",
    "        chosen_items = np.random.choice(np.where(~mask)[0], size=np.random.randint(1, np.sum(~mask)+1), replace=False)\n",
    "        new_mask = np.zeros_like(mask, dtype=bool)\n",
    "        new_mask[chosen_items] = np.True_\n",
    "        knapsackCopy = knapsacks.copy()\n",
    "        knapsackCopy[numKnapsack] |= new_mask\n",
    "\n",
    "        #checking if the knapsack is valid\n",
    "\n",
    "        print(f\"Trying items {chosen_items} for knapsack {numKnapsack}\")\n",
    "        if checkKnapsack(knapsackCopy, numKnapsack):\n",
    "            return new_mask\n",
    "\n",
    "def createSolution():\n",
    "    #process: create a random solution for the knapsack problem\n",
    "\n",
    "    while True:  # Outer loop to restart the for loop\n",
    "        solution = np.zeros((NUM_KNAPSACKS, NUM_ITEMS), dtype=bool)\n",
    "        mask = np.zeros(NUM_ITEMS, dtype=bool)\n",
    "        for k in range(NUM_KNAPSACKS):\n",
    "            solution[k] = fillKnapsack(solution, k, mask)\n",
    "            if solution[k].sum() != 0:  # Condition to restart the loop\n",
    "                mask |= solution[k]\n",
    "                if(k == NUM_KNAPSACKS - 1):\n",
    "                    return solution\n",
    "                continue\n",
    "            break  # Exit the for loop to restart"
   ]
  },
  {
   "cell_type": "code",
   "execution_count": null,
   "id": "f3e8f4b0",
   "metadata": {},
   "outputs": [],
   "source": [
    "solution = createSolution()\n",
    "#initial solution with all knapsacks filled with a valid configuration\n",
    "solution "
   ]
  },
  {
   "cell_type": "code",
   "execution_count": 94,
   "id": "7de9a3fb",
   "metadata": {},
   "outputs": [
    {
     "data": {
      "text/plain": [
       "np.True_"
      ]
     },
     "execution_count": 94,
     "metadata": {},
     "output_type": "execute_result"
    }
   ],
   "source": [
    "# Check that the same object does not appear in multiple knapsacks\n",
    "np.all(solution.sum(axis=0) <= 1)"
   ]
  },
  {
   "cell_type": "code",
   "execution_count": null,
   "id": "54d5b5ee",
   "metadata": {},
   "outputs": [
    {
     "name": "stdout",
     "output_type": "stream",
     "text": [
      "All knapsacks combined mask: [[False False  True False False  True False False  True False]\n",
      " [False  True False False  True False False False False False]]\n",
      "all_knapsacks: [False  True  True False  True  True False False  True False]\n"
     ]
    },
    {
     "data": {
      "text/plain": [
       "np.False_"
      ]
     },
     "execution_count": 88,
     "metadata": {},
     "output_type": "execute_result"
    }
   ],
   "source": [
    "# Check if the solution is valid\n",
    "all_knapsacks = np.any(solution, axis=0)\n",
    "print(\"All knapsacks combined mask:\", solution)\n",
    "print(\"all_knapsacks:\", all_knapsacks)\n",
    "np.all(WEIGHTS[all_knapsacks].sum(axis=0) < CONSTRAINTS)"
   ]
  },
  {
   "cell_type": "markdown",
   "id": "8e0e0673",
   "metadata": {},
   "source": [
    "## TEST PROBLEMS"
   ]
  },
  {
   "cell_type": "code",
   "execution_count": 97,
   "id": "5595db9c",
   "metadata": {},
   "outputs": [],
   "source": [
    "# Problem 1:\n",
    "rng = np.random.default_rng(seed=42)\n",
    "NUM_KNAPSACKS = 3\n",
    "NUM_ITEMS = 20\n",
    "NUM_DIMENSIONS = 2\n",
    "VALUES = rng.integers(0, 100, size=NUM_ITEMS)\n",
    "WEIGHTS = rng.integers(0, 100, size=(NUM_ITEMS, NUM_DIMENSIONS))\n",
    "CONSTRAINTS = rng.integers(0, 100 * NUM_ITEMS // NUM_KNAPSACKS, size=NUM_DIMENSIONS)"
   ]
  },
  {
   "cell_type": "code",
   "execution_count": 101,
   "id": "9eed08a0",
   "metadata": {},
   "outputs": [],
   "source": [
    "# Problem 2:\n",
    "rng = np.random.default_rng(seed=42)\n",
    "NUM_KNAPSACKS = 10\n",
    "NUM_ITEMS = 100\n",
    "NUM_DIMENSIONS = 10\n",
    "VALUES = rng.integers(0, 1000, size=NUM_ITEMS)\n",
    "WEIGHTS = rng.integers(0, 1000, size=(NUM_ITEMS, NUM_DIMENSIONS))\n",
    "CONSTRAINTS = rng.integers(1000 * 2, 1000 * NUM_ITEMS // NUM_KNAPSACKS, size=NUM_DIMENSIONS)"
   ]
  },
  {
   "cell_type": "code",
   "execution_count": 95,
   "id": "117380d6",
   "metadata": {},
   "outputs": [],
   "source": [
    "# Problem 3:\n",
    "rng = np.random.default_rng(seed=42)\n",
    "NUM_KNAPSACKS = 100\n",
    "NUM_ITEMS = 5000\n",
    "NUM_DIMENSIONS = 100\n",
    "VALUES = rng.integers(0, 1000, size=NUM_ITEMS)\n",
    "WEIGHTS = rng.integers(0, 1000, size=(NUM_ITEMS, NUM_DIMENSIONS))\n",
    "CONSTRAINTS = rng.integers(1000 * 10, 1000 * 2 * NUM_ITEMS // NUM_KNAPSACKS, size=NUM_DIMENSIONS)"
   ]
  },
  {
   "cell_type": "code",
   "execution_count": null,
   "id": "2bbe1e02",
   "metadata": {},
   "outputs": [],
   "source": []
  }
 ],
 "metadata": {
  "kernelspec": {
   "display_name": "Python 3",
   "language": "python",
   "name": "python3"
  },
  "language_info": {
   "codemirror_mode": {
    "name": "ipython",
    "version": 3
   },
   "file_extension": ".py",
   "mimetype": "text/x-python",
   "name": "python",
   "nbconvert_exporter": "python",
   "pygments_lexer": "ipython3",
   "version": "3.13.7"
  }
 },
 "nbformat": 4,
 "nbformat_minor": 5
}
