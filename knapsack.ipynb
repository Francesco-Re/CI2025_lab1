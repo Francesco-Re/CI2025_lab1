{
 "cells": [
  {
   "cell_type": "markdown",
   "id": "11fa4375",
   "metadata": {},
   "source": [
    "Copyright **`(c)`** 2025 Giovanni Squillero `<giovanni.squillero@polito.it>`  \n",
    "[`https://github.com/squillero/computational-intelligence`](https://github.com/squillero/computational-intelligence)  \n",
    "Free under certain conditions — see the [`license`](https://github.com/squillero/computational-intelligence/blob/master/LICENSE.md) for details.  "
   ]
  },
  {
   "cell_type": "markdown",
   "id": "ad2f9389",
   "metadata": {},
   "source": [
    "# REVISION\n",
    "The code contain some redundances in the definition of the variables. The constraint is not complete it, it doesnt consider that the same object can be in two different knapsack. The algorithm doesnt operate a local search at all. It does some exploration, searching casually for a mask that make the solution better, but it doesnt twist the solution in order to increment the fitness. In the problem, the constraint are not express well. The problem doesnt print and give a clear results but only define function.\n",
    "## CHANGE I WILL DO\n",
    "Clean the code from declaration of variable that repeat themself.\n",
    "Add the constraint, to verify that an object is in only one knapsack:"
   ]
  },
  {
   "cell_type": "code",
   "execution_count": null,
   "id": "27ef1172",
   "metadata": {},
   "outputs": [],
   "source": [
    "#np.all(solution.sum(axis=0) <= 1):"
   ]
  },
  {
   "cell_type": "markdown",
   "id": "4c2f7989",
   "metadata": {},
   "source": [
    "Implement a local search to exploit the solution you find, like Simulated Annealing. Also starting from a solution randomly choose is not the best, you can optimize it a bit before do the local search. At the end you assemble the code and compute it.\n",
    "# end revision "
   ]
  },
  {
   "cell_type": "code",
   "execution_count": 1,
   "id": "c0882a9f",
   "metadata": {},
   "outputs": [],
   "source": [
    "import numpy as np"
   ]
  },
  {
   "cell_type": "code",
   "execution_count": 85,
   "id": "3adb670e",
   "metadata": {},
   "outputs": [],
   "source": [
    "NUM_KNAPSACKS = 2\n",
    "NUM_ITEMS = 10\n",
    "NUM_DIMENSIONS = 2"
   ]
  },
  {
   "cell_type": "code",
   "execution_count": 5,
   "id": "3ea35aac",
   "metadata": {},
   "outputs": [],
   "source": [
    "NUM_KNAPSACKS = 2\n",
    "NUM_ITEMS = 3\n",
    "NUM_DIMENSIONS = 2"
   ]
  },
  {
   "cell_type": "code",
   "execution_count": 8,
   "id": "2db51e99",
   "metadata": {},
   "outputs": [],
   "source": [
    "VALUES = np.random.randint(0, 100, size=NUM_ITEMS)\n",
    "WEIGHTS = np.random.randint(0, 100, size=(NUM_ITEMS, NUM_DIMENSIONS))\n",
    "CONSTRAINTS = np.random.randint(0, 100 * NUM_ITEMS // NUM_KNAPSACKS, size=(NUM_KNAPSACKS, NUM_DIMENSIONS))"
   ]
  },
  {
   "cell_type": "code",
   "execution_count": null,
   "id": "ce454091",
   "metadata": {},
   "outputs": [],
   "source": [
    "WEIGHTS"
   ]
  },
  {
   "cell_type": "code",
   "execution_count": null,
   "id": "2abb812d",
   "metadata": {},
   "outputs": [],
   "source": [
    "CONSTRAINTS"
   ]
  },
  {
   "cell_type": "code",
   "execution_count": 26,
   "id": "dade6b3c",
   "metadata": {},
   "outputs": [],
   "source": [
    "# A random solution\n",
    "solution = np.array(\n",
    "    [np.random.random(NUM_ITEMS) <0.5 for _ in range(NUM_KNAPSACKS)], dtype=np.bool\n",
    ")"
   ]
  },
  {
   "cell_type": "code",
   "execution_count": null,
   "id": "f21d5749",
   "metadata": {},
   "outputs": [],
   "source": [
    "solution"
   ]
  },
  {
   "cell_type": "code",
   "execution_count": 62,
   "id": "19a1ae20",
   "metadata": {},
   "outputs": [],
   "source": [
    "#variable to limit the number of attempts to find a valid configuration, used in both functions for the single knapsack and for all knapsacks\n",
    "#avoid this value: definitely too long wait (with 1000 problem 3 took around 30 minutes to complete, so I'd use it just for problem 1)\n",
    "approximation_limit = 10000"
   ]
  },
  {
   "cell_type": "code",
   "execution_count": 55,
   "id": "bb5fa0ad",
   "metadata": {},
   "outputs": [],
   "source": [
    "approximation_limit = 1000"
   ]
  },
  {
   "cell_type": "code",
   "execution_count": 2,
   "id": "bbb9fc9c",
   "metadata": {},
   "outputs": [],
   "source": [
    "approximation_limit = 100"
   ]
  },
  {
   "cell_type": "code",
   "execution_count": 47,
   "id": "38b2192c",
   "metadata": {},
   "outputs": [],
   "source": [
    "def checkKnapsack(solution, knapsack):\n",
    "    #checks if the solution is valid\n",
    "    return np.all(WEIGHTS[solution[knapsack]].sum(axis=0) <= CONSTRAINTS[knapsack])\n",
    "\n",
    "def fillKnapsack(knapsacks, numKnapsack, mask):\n",
    "    #process: get all the values that can be chosen, get a random set of items to put in the knapsack\n",
    "    #         and then check if the solution is valid\n",
    "\n",
    "    for j in range(approximation_limit):\n",
    "        \n",
    "        #checking if there are still items to choose from\n",
    "        if(np.sum(~mask) == 0):\n",
    "            break\n",
    "        #choosing knapsack items\n",
    "        chosen_items = np.random.choice(np.where(~mask)[0], size=np.random.randint(1, np.sum(~mask)+1), replace=False)\n",
    "\n",
    "        #creating the mask for the knapsack to be filled\n",
    "        new_mask = np.zeros_like(mask, dtype=bool)\n",
    "        new_mask[chosen_items] = np.True_\n",
    "\n",
    "        #creating a copy of the knapsacks to test the new configuration\n",
    "        knapsackCopy = knapsacks.copy()\n",
    "        knapsackCopy[numKnapsack] |= new_mask\n",
    "\n",
    "        #checking if the knapsack is valid\n",
    "        if checkKnapsack(knapsackCopy, numKnapsack):\n",
    "            return new_mask\n",
    "        \n",
    "\n",
    "    return np.zeros_like(mask, dtype=bool)\n",
    "        \n",
    "def calculateValue(solution):\n",
    "    total_value = 0\n",
    "    for k in range(NUM_KNAPSACKS):\n",
    "        total_value += VALUES[solution[k]].sum()\n",
    "    return total_value\n",
    "\n",
    "def createSolution():\n",
    "\n",
    "    #Variables used for tracking an approximate solution\n",
    "    best_solution = None\n",
    "    best_solution_value = 0\n",
    "\n",
    "    for k in range(approximation_limit):  # Outer loop to restart the for loop\n",
    "\n",
    "        #new solution initialization\n",
    "        solution = np.zeros((NUM_KNAPSACKS, NUM_ITEMS), dtype=bool)\n",
    "        mask = np.zeros(NUM_ITEMS, dtype=bool)\n",
    "\n",
    "        #loop to fill knapsacks\n",
    "        for j in range(NUM_KNAPSACKS):\n",
    "\n",
    "            # Filling the j-th knapsack\n",
    "            solution[j] = fillKnapsack(solution, j, mask)\n",
    "\n",
    "            # Condition to continue the loop, if the knapsack obtained is not empty probably there's still objects for other knapsacks\n",
    "            if solution[j].sum() != 0:  \n",
    "                mask |= solution[j]\n",
    "                if(j == NUM_KNAPSACKS - 1):\n",
    "                    \n",
    "                    #checking if the solution is better than the best one found yet\n",
    "                    value = calculateValue(solution)\n",
    "                    if best_solution is None or value > best_solution_value:\n",
    "                        best_solution = solution.copy()\n",
    "                        best_solution_value = value\n",
    "                continue\n",
    "            \n",
    "            value = calculateValue(solution)\n",
    "            if best_solution is None or value > best_solution_value:\n",
    "                best_solution = solution.copy()\n",
    "                best_solution_value = value\n",
    "            \n",
    "            # Exit the for loop to restart\n",
    "            break  \n",
    "    # Return the best solution found\n",
    "    print(\"Best solution with value \", best_solution_value)\n",
    "    return best_solution  \n"
   ]
  },
  {
   "cell_type": "code",
   "execution_count": null,
   "id": "f3e8f4b0",
   "metadata": {},
   "outputs": [],
   "source": [
    "\n",
    "solution = createSolution()\n",
    "\n",
    "solution"
   ]
  },
  {
   "cell_type": "code",
   "execution_count": null,
   "id": "7de9a3fb",
   "metadata": {},
   "outputs": [],
   "source": [
    "# Check that the same object does not appear in multiple knapsacks\n",
    "np.all(solution.sum(axis=0) <= 1)"
   ]
  },
  {
   "cell_type": "markdown",
   "id": "8e0e0673",
   "metadata": {},
   "source": [
    "## TEST PROBLEMS"
   ]
  },
  {
   "cell_type": "code",
   "execution_count": 61,
   "id": "5595db9c",
   "metadata": {},
   "outputs": [],
   "source": [
    "# Problem 1:\n",
    "rng = np.random.default_rng(seed=42)\n",
    "NUM_KNAPSACKS = 3\n",
    "NUM_ITEMS = 20\n",
    "NUM_DIMENSIONS = 2\n",
    "VALUES = rng.integers(0, 100, size=NUM_ITEMS)\n",
    "WEIGHTS = rng.integers(0, 100, size=(NUM_ITEMS, NUM_DIMENSIONS))\n",
    "CONSTRAINTS = rng.integers(0, 100 * NUM_ITEMS // NUM_KNAPSACKS, size=(NUM_KNAPSACKS, NUM_DIMENSIONS))"
   ]
  },
  {
   "cell_type": "code",
   "execution_count": 68,
   "id": "9eed08a0",
   "metadata": {},
   "outputs": [],
   "source": [
    "# Problem 2:\n",
    "rng = np.random.default_rng(seed=42)\n",
    "NUM_KNAPSACKS = 10\n",
    "NUM_ITEMS = 100\n",
    "NUM_DIMENSIONS = 10\n",
    "VALUES = rng.integers(0, 1000, size=NUM_ITEMS)\n",
    "WEIGHTS = rng.integers(0, 1000, size=(NUM_ITEMS, NUM_DIMENSIONS))\n",
    "CONSTRAINTS = rng.integers(1000 * 2, 1000 * NUM_ITEMS // NUM_KNAPSACKS, size=NUM_DIMENSIONS)"
   ]
  },
  {
   "cell_type": "code",
   "execution_count": 57,
   "id": "117380d6",
   "metadata": {},
   "outputs": [],
   "source": [
    "# Problem 3:\n",
    "rng = np.random.default_rng(seed=42)\n",
    "NUM_KNAPSACKS = 100\n",
    "NUM_ITEMS = 5000\n",
    "NUM_DIMENSIONS = 100\n",
    "VALUES = rng.integers(0, 1000, size=NUM_ITEMS)\n",
    "WEIGHTS = rng.integers(0, 1000, size=(NUM_ITEMS, NUM_DIMENSIONS))\n",
    "CONSTRAINTS = rng.integers(1000 * 10, 1000 * 2 * NUM_ITEMS // NUM_KNAPSACKS, size=NUM_DIMENSIONS)"
   ]
  }
 ],
 "metadata": {
  "kernelspec": {
   "display_name": "Python 3",
   "language": "python",
   "name": "python3"
  },
  "language_info": {
   "codemirror_mode": {
    "name": "ipython",
    "version": 3
   },
   "file_extension": ".py",
   "mimetype": "text/x-python",
   "name": "python",
   "nbconvert_exporter": "python",
   "pygments_lexer": "ipython3",
   "version": "3.11.9"
  }
 },
 "nbformat": 4,
 "nbformat_minor": 5
}
