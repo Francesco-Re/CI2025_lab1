{
 "cells": [
  {
   "cell_type": "markdown",
   "id": "11fa4375",
   "metadata": {},
   "source": [
    "Copyright **`(c)`** 2025 Giovanni Squillero `<giovanni.squillero@polito.it>`  \n",
    "[`https://github.com/squillero/computational-intelligence`](https://github.com/squillero/computational-intelligence)  \n",
    "Free under certain conditions — see the [`license`](https://github.com/squillero/computational-intelligence/blob/master/LICENSE.md) for details.  "
   ]
  },
  {
   "cell_type": "code",
   "execution_count": 101,
   "id": "c0882a9f",
   "metadata": {},
   "outputs": [],
   "source": [
    "import numpy as np\n",
    "rng = np.random.default_rng(seed=42)"
   ]
  },
  {
   "cell_type": "code",
   "execution_count": 102,
   "id": "3adb670e",
   "metadata": {},
   "outputs": [],
   "source": [
    "NUM_KNAPSACKS = 3\n",
    "NUM_ITEMS = 20\n",
    "NUM_DIMENSIONS = 2"
   ]
  },
  {
   "cell_type": "code",
   "execution_count": 103,
   "id": "2db51e99",
   "metadata": {},
   "outputs": [],
   "source": [
    "VALUES = np.random.randint(0, 100, size=NUM_ITEMS)\n",
    "WEIGHTS = np.random.randint(0, 100, size=(NUM_ITEMS, NUM_DIMENSIONS))\n",
    "CONSTRAINTS = np.random.randint(0, 100 * NUM_ITEMS // NUM_KNAPSACKS, size=(NUM_KNAPSACKS, NUM_DIMENSIONS))"
   ]
  },
  {
   "cell_type": "code",
   "execution_count": null,
   "id": "ce454091",
   "metadata": {},
   "outputs": [],
   "source": [
    "WEIGHTS"
   ]
  },
  {
   "cell_type": "code",
   "execution_count": 105,
   "id": "2abb812d",
   "metadata": {},
   "outputs": [
    {
     "data": {
      "text/plain": [
       "array([[ 67, 231],\n",
       "       [165, 168],\n",
       "       [450, 247]])"
      ]
     },
     "execution_count": 105,
     "metadata": {},
     "output_type": "execute_result"
    }
   ],
   "source": [
    "CONSTRAINTS"
   ]
  },
  {
   "cell_type": "code",
   "execution_count": 106,
   "id": "dade6b3c",
   "metadata": {},
   "outputs": [],
   "source": [
    "# A random solution\n",
    "solution = np.array(\n",
    "    [np.random.random(NUM_ITEMS) <0.5 for _ in range(NUM_KNAPSACKS)], dtype=np.bool\n",
    ")"
   ]
  },
  {
   "cell_type": "code",
   "execution_count": null,
   "id": "f21d5749",
   "metadata": {},
   "outputs": [],
   "source": [
    "solution"
   ]
  },
  {
   "cell_type": "code",
   "execution_count": 124,
   "id": "b5c2ecaf",
   "metadata": {},
   "outputs": [],
   "source": [
    "# Problem 2:\n",
    "rng = np.random.default_rng(seed=42)\n",
    "NUM_KNAPSACKS = 10\n",
    "NUM_ITEMS = 100\n",
    "NUM_DIMENSIONS = 10\n",
    "VALUES = rng.integers(0, 1000, size=NUM_ITEMS)\n",
    "WEIGHTS = rng.integers(0, 1000, size=(NUM_ITEMS, NUM_DIMENSIONS))\n",
    "CONSTRAINTS = rng.integers(1000 * 2, 1000 * NUM_ITEMS // NUM_KNAPSACKS, size=NUM_DIMENSIONS)\n",
    "\n",
    "MAXITER = 2000"
   ]
  },
  {
   "cell_type": "code",
   "execution_count": 109,
   "id": "19a1ae20",
   "metadata": {},
   "outputs": [],
   "source": [
    "#variable to limit the number of attempts to find a valid configuration, used in both functions for the single knapsack and for all knapsacks\n",
    "#avoid this value: definitely too long wait (with 1000 problem 3 took around 30 minutes to complete, so I'd use it just for problem 1)\n",
    "approximation_limit = 10000"
   ]
  },
  {
   "cell_type": "code",
   "execution_count": 110,
   "id": "bb5fa0ad",
   "metadata": {},
   "outputs": [],
   "source": [
    "approximation_limit = 1000"
   ]
  },
  {
   "cell_type": "code",
   "execution_count": 111,
   "id": "bbb9fc9c",
   "metadata": {},
   "outputs": [],
   "source": [
    "approximation_limit = 100"
   ]
  },
  {
   "cell_type": "code",
   "execution_count": 112,
   "id": "38b2192c",
   "metadata": {},
   "outputs": [],
   "source": [
    "def checkKnapsack(solution, knapsack):\n",
    "    #checks if the solution is valid\n",
    "    return np.all(WEIGHTS[solution[knapsack]].sum(axis=0) <= CONSTRAINTS[knapsack])\n",
    "\n",
    "def fillKnapsack(knapsacks, numKnapsack, mask):\n",
    "    #process: get all the values that can be chosen, get a random set of items to put in the knapsack\n",
    "    #         and then check if the solution is valid\n",
    "\n",
    "    for j in range(approximation_limit):\n",
    "        \n",
    "        #checking if there are still items to choose from\n",
    "        if(np.sum(~mask) == 0):\n",
    "            break\n",
    "        \n",
    "        #choosing knapsack items\n",
    "        chosen_items = np.random.choice(np.where(~mask)[0], size=np.random.randint(1, np.sum(~mask)+1), replace=False)\n",
    "\n",
    "        #creating the mask for the knapsack to be filled\n",
    "        new_mask = np.zeros_like(mask, dtype=bool)\n",
    "        new_mask[chosen_items] = np.True_\n",
    "\n",
    "        #creating a copy of the knapsacks to test the new configuration\n",
    "        knapsackCopy = knapsacks.copy()\n",
    "        knapsackCopy[numKnapsack] |= new_mask\n",
    "\n",
    "        #checking if the knapsack is valid\n",
    "        if checkKnapsack(knapsackCopy, numKnapsack):\n",
    "            return new_mask\n",
    "        \n",
    "\n",
    "    return np.zeros_like(mask, dtype=bool)\n",
    "        \n",
    "def calculateValue(solution):\n",
    "    total_value = 0\n",
    "    for k in range(NUM_KNAPSACKS):\n",
    "        total_value += VALUES[solution[k]].sum()\n",
    "    return total_value\n",
    "\n",
    "def createSolution():\n",
    "\n",
    "    #Variables used for tracking an approximate solution\n",
    "    best_solution = None\n",
    "    best_solution_value = 0\n",
    "\n",
    "    for k in range(approximation_limit):  # Outer loop to restart the for loop\n",
    "\n",
    "        #new solution initialization\n",
    "        solution = np.zeros((NUM_KNAPSACKS, NUM_ITEMS), dtype=bool)\n",
    "        mask = np.zeros(NUM_ITEMS, dtype=bool)\n",
    "\n",
    "        #loop to fill knapsacks\n",
    "        for j in range(NUM_KNAPSACKS):\n",
    "\n",
    "            # Filling the j-th knapsack\n",
    "            solution[j] = fillKnapsack(solution, j, mask)\n",
    "\n",
    "            # Condition to continue the loop, if the knapsack obtained is not empty probably there's still objects for other knapsacks\n",
    "            if solution[j].sum() != 0:  \n",
    "                mask |= solution[j]\n",
    "                if(j == NUM_KNAPSACKS - 1):\n",
    "                    \n",
    "                    #checking if the solution is better than the best one found yet\n",
    "                    value = calculateValue(solution)\n",
    "                    if best_solution is None or value > best_solution_value:\n",
    "                        best_solution = solution.copy()\n",
    "                        best_solution_value = value\n",
    "                continue\n",
    "            \n",
    "            value = calculateValue(solution)\n",
    "            if best_solution is None or value > best_solution_value:\n",
    "                best_solution = solution.copy()\n",
    "                best_solution_value = value\n",
    "            \n",
    "            # Exit the for loop to restart\n",
    "            break  \n",
    "    # Return the best solution found\n",
    "    print(\"Best solution with value \", best_solution_value)\n",
    "    return best_solution  \n"
   ]
  },
  {
   "cell_type": "code",
   "execution_count": 113,
   "id": "5c7e2e64",
   "metadata": {},
   "outputs": [],
   "source": [
    "def validate(solution):\n",
    "    if not np.all(solution.sum(axis=0) <= 1):\n",
    "        return False #if an item is in more than one knapsack exit\n",
    "    \n",
    "    for nap in range(NUM_KNAPSACKS):\n",
    "        weights = WEIGHTS[solution[nap]].sum(axis=0)\n",
    "        if np.any(weights > CONSTRAINTS[nap]):\n",
    "            return False #if invalid exit\n",
    "    return True"
   ]
  },
  {
   "cell_type": "code",
   "execution_count": 114,
   "id": "ef1c4da1",
   "metadata": {},
   "outputs": [],
   "source": [
    "def cost(solution):\n",
    "    all_knapsacks = np.any(solution, axis=0)\n",
    "    all_cost = VALUES[all_knapsacks].sum()\n",
    "    return all_cost"
   ]
  },
  {
   "cell_type": "code",
   "execution_count": 115,
   "id": "d3bbcda6",
   "metadata": {},
   "outputs": [],
   "source": [
    "def tweak(solution, p = 0.4):\n",
    "    new_solution = solution.copy()\n",
    "    if np.random.random() < p:\n",
    "        # Swap two items between two knapsacks\n",
    "        knapsack1, knapsack2 = np.random.choice(NUM_KNAPSACKS, size=2, replace=False)\n",
    "        item1 = np.random.randint(0, NUM_ITEMS)\n",
    "        item2 = np.random.randint(0, NUM_ITEMS)\n",
    "        new_solution[knapsack1, item1], new_solution[knapsack2, item2] = (\n",
    "            new_solution[knapsack2, item2],\n",
    "            new_solution[knapsack1, item1],\n",
    "        )\n",
    "    else:\n",
    "        # Add or remove an item from a knapsack\n",
    "        knapsack = np.random.randint(0, NUM_KNAPSACKS)\n",
    "        item = np.random.randint(0, NUM_ITEMS)\n",
    "        new_solution[knapsack, item] = not new_solution[knapsack, item]\n",
    "    \n",
    "    return new_solution"
   ]
  },
  {
   "cell_type": "code",
   "execution_count": 116,
   "id": "ef8fe2a0",
   "metadata": {},
   "outputs": [],
   "source": [
    "def hill_climbing(solution):\n",
    "    current_cost = cost(solution)\n",
    "\n",
    "    best_solution = solution\n",
    "    best_cost = current_cost\n",
    "\n",
    "    p = 0.2\n",
    "    for i in range(MAXITER):\n",
    "        new_solution = tweak(solution)\n",
    "        new_cost = cost(new_solution)\n",
    "        if new_cost >= current_cost and validate(new_solution):\n",
    "            solution = new_solution\n",
    "            current_cost = new_cost\n",
    "            if current_cost > best_cost:\n",
    "                print(f\"Iteration {i}: current cost = {best_cost}, new cost = {current_cost}\")\n",
    "                best_cost = current_cost\n",
    "                best_solution = solution\n",
    "        elif validate(new_solution) and np.random.random() < p:\n",
    "            p = p * 0.99\n",
    "            solution = new_solution\n",
    "            current_cost = new_cost\n",
    "            \n",
    "    return best_solution"
   ]
  },
  {
   "cell_type": "code",
   "execution_count": null,
   "id": "f3e8f4b0",
   "metadata": {},
   "outputs": [],
   "source": [
    "\n",
    "solution = createSolution()\n",
    "solution = hill_climbing(solution)\n",
    "solution"
   ]
  },
  {
   "cell_type": "code",
   "execution_count": 118,
   "id": "7de9a3fb",
   "metadata": {},
   "outputs": [
    {
     "data": {
      "text/plain": [
       "np.True_"
      ]
     },
     "execution_count": 118,
     "metadata": {},
     "output_type": "execute_result"
    }
   ],
   "source": [
    "# Check that the same object does not appear in multiple knapsacks\n",
    "np.all(solution.sum(axis=0) <= 1)"
   ]
  },
  {
   "cell_type": "markdown",
   "id": "8e0e0673",
   "metadata": {},
   "source": [
    "## TEST PROBLEMS"
   ]
  },
  {
   "cell_type": "code",
   "execution_count": 119,
   "id": "5595db9c",
   "metadata": {},
   "outputs": [],
   "source": [
    "# Problem 1:\n",
    "rng = np.random.default_rng(seed=42)\n",
    "NUM_KNAPSACKS = 3\n",
    "NUM_ITEMS = 20\n",
    "NUM_DIMENSIONS = 2\n",
    "VALUES = rng.integers(0, 100, size=NUM_ITEMS)\n",
    "WEIGHTS = rng.integers(0, 100, size=(NUM_ITEMS, NUM_DIMENSIONS))\n",
    "CONSTRAINTS = rng.integers(0, 100 * NUM_ITEMS // NUM_KNAPSACKS, size=(NUM_KNAPSACKS, NUM_DIMENSIONS))"
   ]
  },
  {
   "cell_type": "code",
   "execution_count": 120,
   "id": "9eed08a0",
   "metadata": {},
   "outputs": [],
   "source": [
    "# Problem 2:\n",
    "rng = np.random.default_rng(seed=42)\n",
    "NUM_KNAPSACKS = 10\n",
    "NUM_ITEMS = 100\n",
    "NUM_DIMENSIONS = 10\n",
    "VALUES = rng.integers(0, 1000, size=NUM_ITEMS)\n",
    "WEIGHTS = rng.integers(0, 1000, size=(NUM_ITEMS, NUM_DIMENSIONS))\n",
    "CONSTRAINTS = rng.integers(1000 * 2, 1000 * NUM_ITEMS // NUM_KNAPSACKS, size=NUM_DIMENSIONS)"
   ]
  },
  {
   "cell_type": "code",
   "execution_count": 121,
   "id": "117380d6",
   "metadata": {},
   "outputs": [],
   "source": [
    "# Problem 3:\n",
    "rng = np.random.default_rng(seed=42)\n",
    "NUM_KNAPSACKS = 100\n",
    "NUM_ITEMS = 5000\n",
    "NUM_DIMENSIONS = 100\n",
    "VALUES = rng.integers(0, 1000, size=NUM_ITEMS)\n",
    "WEIGHTS = rng.integers(0, 1000, size=(NUM_ITEMS, NUM_DIMENSIONS))\n",
    "CONSTRAINTS = rng.integers(1000 * 10, 1000 * 2 * NUM_ITEMS // NUM_KNAPSACKS, size=NUM_DIMENSIONS)"
   ]
  }
 ],
 "metadata": {
  "kernelspec": {
   "display_name": "Python (Anaconda base)",
   "language": "python",
   "name": "anaconda-base"
  },
  "language_info": {
   "codemirror_mode": {
    "name": "ipython",
    "version": 3
   },
   "file_extension": ".py",
   "mimetype": "text/x-python",
   "name": "python",
   "nbconvert_exporter": "python",
   "pygments_lexer": "ipython3",
   "version": "3.13.7"
  }
 },
 "nbformat": 4,
 "nbformat_minor": 5
}
